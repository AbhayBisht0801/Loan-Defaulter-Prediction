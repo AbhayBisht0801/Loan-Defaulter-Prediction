{
 "cells": [
  {
   "cell_type": "code",
   "execution_count": 1,
   "metadata": {},
   "outputs": [],
   "source": [
    "import os\n"
   ]
  },
  {
   "cell_type": "code",
   "execution_count": 2,
   "metadata": {},
   "outputs": [],
   "source": [
    "os.chdir('../')"
   ]
  },
  {
   "cell_type": "code",
   "execution_count": 3,
   "metadata": {},
   "outputs": [],
   "source": [
    "from pathlib import Path\n",
    "from dataclasses import dataclass\n",
    "@dataclass(frozen=True)\n",
    "class DataIngestionConfig:\n",
    "    root_dir:Path\n",
    "    source_URL:str\n",
    "    local_dir:Path\n",
    "    split_dir:Path\n",
    "    \n"
   ]
  },
  {
   "cell_type": "code",
   "execution_count": 4,
   "metadata": {},
   "outputs": [],
   "source": [
    "from src.Loan_defaulter.constants import *\n",
    "from src.Loan_defaulter.utils.common import read_yaml,create_directories"
   ]
  },
  {
   "cell_type": "code",
   "execution_count": 5,
   "metadata": {},
   "outputs": [],
   "source": [
    "class ConfigurationManager:\n",
    "    def __init__(\n",
    "            self,\n",
    "            config_filepath=CONFIG_FILE_PATH,\n",
    "            params_filepath=PARAMS_FILE_PATH\n",
    "\n",
    "    ):\n",
    "        self.config=read_yaml(config_filepath)\n",
    "        self.params=read_yaml(params_filepath)\n",
    "        create_directories([self.config.artifacts_root])\n",
    "\n",
    "    def get_data_ingestion_config(self)->DataIngestionConfig:\n",
    "        config=self.config.data_ingestion\n",
    "       \n",
    "        create_directories([config.root_dir])\n",
    "        create_directories([config.split_dir])\n",
    "        data_ingestion_config=DataIngestionConfig(\n",
    "            root_dir=config.root_dir,\n",
    "            source_URL=config.source_URL,\n",
    "            local_dir=config.local_dir,\n",
    "            split_dir=config.split_dir\n",
    "        )\n",
    "        return data_ingestion_config"
   ]
  },
  {
   "cell_type": "code",
   "execution_count": 6,
   "metadata": {},
   "outputs": [],
   "source": [
    "import os\n",
    "import urllib.request as request \n",
    "import gdown\n",
    "from src.Loan_defaulter import logger\n",
    "import zipfile\n",
    "import pandas as pd\n",
    "import re\n",
    "import numpy as np\n",
    "from sklearn.model_selection import train_test_split"
   ]
  },
  {
   "cell_type": "code",
   "execution_count": 7,
   "metadata": {},
   "outputs": [],
   "source": [
    "class DataIngestion:\n",
    "    def __init__(self,config:DataIngestionConfig):\n",
    "        self.config = config\n",
    "\n",
    "    def download_file(self)->str:\n",
    "        try:\n",
    "            dataset_url=self.config.source_URL\n",
    "            local_dir=self.config.local_dir\n",
    "            os.makedirs('artifacts/data_ingestion',exist_ok=True)\n",
    "            logger.info(f'Downloading data from {dataset_url} into file {local_dir}')\n",
    "            file_id=dataset_url.split('/')[-2]\n",
    "            prefix='http://drive.google.com/uc?/export=download&id='\n",
    "            gdown.download(prefix+file_id,local_dir)\n",
    "            logger.info(f'Download data from {dataset_url} into file {local_dir}')\n",
    "        except Exception as e:\n",
    "            raise e\n",
    "    def split_data(self):\n",
    "        try:\n",
    "            logger.info('Splitting data into train test split')\n",
    "            df=pd.read_csv(self.config.local_dir)\n",
    "            df.drop(columns=['ID','year'],inplace=True)\n",
    "            df['loan_with_property']=df['property_value'].apply(lambda x: 0 if pd.isna(x) else 1)\n",
    "            df['property_value']=df['property_value'].apply(lambda x: 0 if pd.isna(x) else x)\n",
    "            # droping ltv as it is a calculated using loan amount by total property value\n",
    "            df.drop(columns=['LTV'],inplace=True)\n",
    "            split_dir=self.config.split_dir\n",
    "            \n",
    "            X=df.drop(columns=['Status'])\n",
    "            y=df['Status']\n",
    "            X_train,X_temp,y_train,y_temp=train_test_split(X,y,test_size=0.3,random_state=42)      \n",
    "            X_val,X_test,y_val,y_test=train_test_split(X_temp,y_temp,test_size=0.5,random_state=42)\n",
    "            X_train.to_csv(os.path.join(split_dir,'X_train.csv'))\n",
    "            X_val.to_csv(os.path.join(split_dir,'X_val.csv'))\n",
    "            X_test.to_csv(os.path.join(split_dir,'X_test.csv'))\n",
    "            y_train.to_csv(os.path.join(split_dir,'y_train.csv'))\n",
    "            y_val.to_csv(os.path.join(split_dir,'y_val.csv'))\n",
    "            y_test.to_csv(os.path.join(split_dir,'y_test.csv'))\n",
    "            logger.info(f'Data split into train test split and save in {split_dir}')\n",
    "        except Exception as e:\n",
    "            raise e\n",
    "\n",
    "        \n",
    "        \n",
    "    \n",
    "    "
   ]
  },
  {
   "cell_type": "code",
   "execution_count": 8,
   "metadata": {},
   "outputs": [
    {
     "name": "stdout",
     "output_type": "stream",
     "text": [
      "[2024-12-25 11:40:53,262:INFO:common:yaml file: config\\config.yaml loaded successfully]\n",
      "[2024-12-25 11:40:53,263:INFO:common:yaml file: params.yaml loaded successfully]\n",
      "[2024-12-25 11:40:53,265:INFO:common:created directory at: artifacts]\n",
      "[2024-12-25 11:40:53,267:INFO:common:created directory at: artifacts/data_ingestion]\n",
      "[2024-12-25 11:40:53,269:INFO:common:created directory at: artifacts/data_ingestion/split_data]\n",
      "[2024-12-25 11:40:53,270:INFO:2880705593:Downloading data from https://drive.google.com/file/d/1iPSSu3l8bYz36l9oEic3RhgW-EgF_oN9/view?usp=sharing into file artifacts/data_ingestion/loan_default.csv]\n"
     ]
    },
    {
     "name": "stderr",
     "output_type": "stream",
     "text": [
      "Downloading...\n",
      "From: http://drive.google.com/uc?/export=download&id=1iPSSu3l8bYz36l9oEic3RhgW-EgF_oN9\n",
      "To: c:\\Users\\bisht\\OneDrive\\Desktop\\New folder\\artifacts\\data_ingestion\\loan_default.csv\n",
      "100%|██████████| 28.5M/28.5M [00:03<00:00, 8.96MB/s]"
     ]
    },
    {
     "name": "stdout",
     "output_type": "stream",
     "text": [
      "[2024-12-25 11:41:01,425:INFO:2880705593:Download data from https://drive.google.com/file/d/1iPSSu3l8bYz36l9oEic3RhgW-EgF_oN9/view?usp=sharing into file artifacts/data_ingestion/loan_default.csv]\n",
      "[2024-12-25 11:41:01,426:INFO:2880705593:Splitting data into train test split]\n"
     ]
    },
    {
     "name": "stderr",
     "output_type": "stream",
     "text": [
      "\n"
     ]
    },
    {
     "ename": "UnboundLocalError",
     "evalue": "local variable 'df' referenced before assignment",
     "output_type": "error",
     "traceback": [
      "\u001b[1;31m---------------------------------------------------------------------------\u001b[0m",
      "\u001b[1;31mUnboundLocalError\u001b[0m                         Traceback (most recent call last)",
      "Cell \u001b[1;32mIn[8], line 8\u001b[0m\n\u001b[0;32m      6\u001b[0m     data_ingestion\u001b[38;5;241m.\u001b[39msplit_data()\n\u001b[0;32m      7\u001b[0m \u001b[38;5;28;01mexcept\u001b[39;00m \u001b[38;5;167;01mException\u001b[39;00m \u001b[38;5;28;01mas\u001b[39;00m e:\n\u001b[1;32m----> 8\u001b[0m     \u001b[38;5;28;01mraise\u001b[39;00m e\n",
      "Cell \u001b[1;32mIn[8], line 6\u001b[0m\n\u001b[0;32m      4\u001b[0m     data_ingestion\u001b[38;5;241m=\u001b[39mDataIngestion(config\u001b[38;5;241m=\u001b[39mdata_ingestion_config)\n\u001b[0;32m      5\u001b[0m     data_ingestion\u001b[38;5;241m.\u001b[39mdownload_file()\n\u001b[1;32m----> 6\u001b[0m     \u001b[43mdata_ingestion\u001b[49m\u001b[38;5;241;43m.\u001b[39;49m\u001b[43msplit_data\u001b[49m\u001b[43m(\u001b[49m\u001b[43m)\u001b[49m\n\u001b[0;32m      7\u001b[0m \u001b[38;5;28;01mexcept\u001b[39;00m \u001b[38;5;167;01mException\u001b[39;00m \u001b[38;5;28;01mas\u001b[39;00m e:\n\u001b[0;32m      8\u001b[0m     \u001b[38;5;28;01mraise\u001b[39;00m e\n",
      "Cell \u001b[1;32mIn[7], line 39\u001b[0m, in \u001b[0;36mDataIngestion.split_data\u001b[1;34m(self)\u001b[0m\n\u001b[0;32m     37\u001b[0m     logger\u001b[38;5;241m.\u001b[39minfo(\u001b[38;5;124mf\u001b[39m\u001b[38;5;124m'\u001b[39m\u001b[38;5;124mData split into train test split and save in \u001b[39m\u001b[38;5;132;01m{\u001b[39;00msplit_dir\u001b[38;5;132;01m}\u001b[39;00m\u001b[38;5;124m'\u001b[39m)\n\u001b[0;32m     38\u001b[0m \u001b[38;5;28;01mexcept\u001b[39;00m \u001b[38;5;167;01mException\u001b[39;00m \u001b[38;5;28;01mas\u001b[39;00m e:\n\u001b[1;32m---> 39\u001b[0m     \u001b[38;5;28;01mraise\u001b[39;00m e\n",
      "Cell \u001b[1;32mIn[7], line 20\u001b[0m, in \u001b[0;36mDataIngestion.split_data\u001b[1;34m(self)\u001b[0m\n\u001b[0;32m     18\u001b[0m \u001b[38;5;28;01mtry\u001b[39;00m:\n\u001b[0;32m     19\u001b[0m     logger\u001b[38;5;241m.\u001b[39minfo(\u001b[38;5;124m'\u001b[39m\u001b[38;5;124mSplitting data into train test split\u001b[39m\u001b[38;5;124m'\u001b[39m)\n\u001b[1;32m---> 20\u001b[0m     \u001b[43mdf\u001b[49m\u001b[38;5;241m.\u001b[39mdrop(columns\u001b[38;5;241m=\u001b[39m[\u001b[38;5;124m'\u001b[39m\u001b[38;5;124mID\u001b[39m\u001b[38;5;124m'\u001b[39m,\u001b[38;5;124m'\u001b[39m\u001b[38;5;124myear\u001b[39m\u001b[38;5;124m'\u001b[39m],inplace\u001b[38;5;241m=\u001b[39m\u001b[38;5;28;01mTrue\u001b[39;00m)\n\u001b[0;32m     21\u001b[0m     df[\u001b[38;5;124m'\u001b[39m\u001b[38;5;124mloan_with_property\u001b[39m\u001b[38;5;124m'\u001b[39m]\u001b[38;5;241m=\u001b[39mdf[\u001b[38;5;124m'\u001b[39m\u001b[38;5;124mproperty_value\u001b[39m\u001b[38;5;124m'\u001b[39m]\u001b[38;5;241m.\u001b[39mapply(\u001b[38;5;28;01mlambda\u001b[39;00m x: \u001b[38;5;241m0\u001b[39m \u001b[38;5;28;01mif\u001b[39;00m pd\u001b[38;5;241m.\u001b[39misna(x) \u001b[38;5;28;01melse\u001b[39;00m \u001b[38;5;241m1\u001b[39m)\n\u001b[0;32m     22\u001b[0m     df[\u001b[38;5;124m'\u001b[39m\u001b[38;5;124mproperty_value\u001b[39m\u001b[38;5;124m'\u001b[39m]\u001b[38;5;241m=\u001b[39mdf[\u001b[38;5;124m'\u001b[39m\u001b[38;5;124mproperty_value\u001b[39m\u001b[38;5;124m'\u001b[39m]\u001b[38;5;241m.\u001b[39mapply(\u001b[38;5;28;01mlambda\u001b[39;00m x: \u001b[38;5;241m0\u001b[39m \u001b[38;5;28;01mif\u001b[39;00m pd\u001b[38;5;241m.\u001b[39misna(x) \u001b[38;5;28;01melse\u001b[39;00m x)\n",
      "\u001b[1;31mUnboundLocalError\u001b[0m: local variable 'df' referenced before assignment"
     ]
    }
   ],
   "source": [
    "try:\n",
    "    config=ConfigurationManager()\n",
    "    data_ingestion_config=config.get_data_ingestion_config()\n",
    "    data_ingestion=DataIngestion(config=data_ingestion_config)\n",
    "    data_ingestion.download_file()\n",
    "    data_ingestion.split_data()\n",
    "except Exception as e:\n",
    "    raise e"
   ]
  },
  {
   "cell_type": "code",
   "execution_count": null,
   "metadata": {},
   "outputs": [],
   "source": []
  }
 ],
 "metadata": {
  "kernelspec": {
   "display_name": "venv",
   "language": "python",
   "name": "python3"
  },
  "language_info": {
   "codemirror_mode": {
    "name": "ipython",
    "version": 3
   },
   "file_extension": ".py",
   "mimetype": "text/x-python",
   "name": "python",
   "nbconvert_exporter": "python",
   "pygments_lexer": "ipython3",
   "version": "3.10.11"
  }
 },
 "nbformat": 4,
 "nbformat_minor": 2
}
