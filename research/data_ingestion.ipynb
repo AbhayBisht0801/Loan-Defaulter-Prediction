{
 "cells": [
  {
   "cell_type": "code",
   "execution_count": 1,
   "metadata": {},
   "outputs": [],
   "source": [
    "import os\n"
   ]
  },
  {
   "cell_type": "code",
   "execution_count": 2,
   "metadata": {},
   "outputs": [],
   "source": [
    "os.chdir('../')"
   ]
  },
  {
   "cell_type": "code",
   "execution_count": 3,
   "metadata": {},
   "outputs": [],
   "source": [
    "from pathlib import Path\n",
    "from dataclasses import dataclass\n",
    "@dataclass(frozen=True)\n",
    "class DataIngestionConfig:\n",
    "    root_dir:Path\n",
    "    source_URL:str\n",
    "    local_dir:Path\n",
    "    data_dir:Path\n",
    "    \n"
   ]
  },
  {
   "cell_type": "code",
   "execution_count": 4,
   "metadata": {},
   "outputs": [],
   "source": [
    "from src.Loan_defaulter.constants import *\n",
    "from src.Loan_defaulter.utils.common import read_yaml,create_directories"
   ]
  },
  {
   "cell_type": "code",
   "execution_count": 5,
   "metadata": {},
   "outputs": [],
   "source": [
    "class ConfigurationManager:\n",
    "    def __init__(\n",
    "            self,\n",
    "            config_filepath=CONFIG_FILE_PATH,\n",
    "            params_filepath=PARAMS_FILE_PATH\n",
    "\n",
    "    ):\n",
    "        self.config=read_yaml(config_filepath)\n",
    "        self.params=read_yaml(params_filepath)\n",
    "        create_directories([self.config.artifacts_root])\n",
    "\n",
    "    def get_data_ingestion_config(self)->DataIngestionConfig:\n",
    "        config=self.config.data_ingestion\n",
    "       \n",
    "        create_directories([config.root_dir])\n",
    "        create_directories([config.data_dir])\n",
    "        data_ingestion_config=DataIngestionConfig(\n",
    "            root_dir=config.root_dir,\n",
    "            source_URL=config.source_URL,\n",
    "            local_dir=config.local_dir,\n",
    "            data_dir=config.data_dir\n",
    "        )\n",
    "        return data_ingestion_config"
   ]
  },
  {
   "cell_type": "code",
   "execution_count": 6,
   "metadata": {},
   "outputs": [],
   "source": [
    "import os\n",
    "import urllib.request as request \n",
    "import gdown\n",
    "from src.Loan_defaulter import logger\n",
    "import zipfile\n",
    "import pandas as pd\n",
    "import re\n",
    "import numpy as np\n",
    "from sklearn.model_selection import train_test_split"
   ]
  },
  {
   "cell_type": "code",
   "execution_count": 7,
   "metadata": {},
   "outputs": [],
   "source": [
    "class DataIngestion:\n",
    "    def __init__(self,config:DataIngestionConfig):\n",
    "        self.config = config\n",
    "\n",
    "    def download_file(self)->str:\n",
    "        try:\n",
    "            dataset_url=self.config.source_URL\n",
    "            local_dir=self.config.local_dir\n",
    "            os.makedirs('artifacts/data_ingestion',exist_ok=True)\n",
    "            logger.info(f'Downloading data from {dataset_url} into file {local_dir}')\n",
    "            file_id=dataset_url.split('/')[-2]\n",
    "            prefix='http://drive.google.com/uc?/export=download&id='\n",
    "            gdown.download(prefix+file_id,local_dir)\n",
    "            logger.info(f'Download data from {dataset_url} into file {local_dir}')\n",
    "        except Exception as e:\n",
    "            raise e\n",
    "    def split_data(self):\n",
    "        try:\n",
    "            logger.info('Splitting data into train test split')\n",
    "            df=pd.read_csv(self.config.local_dir)\n",
    "            df.drop(columns=['ID','year'],inplace=True)\n",
    "            X=df.drop(columns='Status')\n",
    "            y=df['Status']\n",
    "            X.to_csv(os.path.join(self.config.data_dir,'X.csv'),index=False)\n",
    "            y.to_csv(os.path.join(self.config.data_dir,'y.csv'),index=False)\n",
    "            \n",
    "            \n",
    "        except Exception as e:\n",
    "            raise e\n",
    "\n",
    "        \n",
    "        \n",
    "    \n",
    "    "
   ]
  },
  {
   "cell_type": "code",
   "execution_count": 8,
   "metadata": {},
   "outputs": [
    {
     "name": "stdout",
     "output_type": "stream",
     "text": [
      "[2024-12-25 16:39:44,196:INFO:common:yaml file: config\\config.yaml loaded successfully]\n",
      "[2024-12-25 16:39:44,198:INFO:common:yaml file: params.yaml loaded successfully]\n",
      "[2024-12-25 16:39:44,199:INFO:common:created directory at: artifacts]\n",
      "[2024-12-25 16:39:44,201:INFO:common:created directory at: artifacts/data_ingestion]\n",
      "[2024-12-25 16:39:44,202:INFO:common:created directory at: artifacts/data_ingestion/data]\n",
      "[2024-12-25 16:39:44,203:INFO:980538275:Downloading data from https://drive.google.com/file/d/1iPSSu3l8bYz36l9oEic3RhgW-EgF_oN9/view?usp=sharing into file artifacts/data_ingestion/loan_default.csv]\n"
     ]
    },
    {
     "name": "stderr",
     "output_type": "stream",
     "text": [
      "Downloading...\n",
      "From: http://drive.google.com/uc?/export=download&id=1iPSSu3l8bYz36l9oEic3RhgW-EgF_oN9\n",
      "To: c:\\Users\\bisht\\OneDrive\\Desktop\\New folder\\artifacts\\data_ingestion\\loan_default.csv\n",
      "100%|██████████| 28.5M/28.5M [00:03<00:00, 8.44MB/s]"
     ]
    },
    {
     "name": "stdout",
     "output_type": "stream",
     "text": [
      "[2024-12-25 16:39:52,093:INFO:980538275:Download data from https://drive.google.com/file/d/1iPSSu3l8bYz36l9oEic3RhgW-EgF_oN9/view?usp=sharing into file artifacts/data_ingestion/loan_default.csv]\n",
      "[2024-12-25 16:39:52,094:INFO:980538275:Splitting data into train test split]\n"
     ]
    },
    {
     "name": "stderr",
     "output_type": "stream",
     "text": [
      "\n"
     ]
    }
   ],
   "source": [
    "try:\n",
    "    config=ConfigurationManager()\n",
    "    data_ingestion_config=config.get_data_ingestion_config()\n",
    "    data_ingestion=DataIngestion(config=data_ingestion_config)\n",
    "    data_ingestion.download_file()\n",
    "    data_ingestion.split_data()\n",
    "except Exception as e:\n",
    "    raise e"
   ]
  },
  {
   "cell_type": "code",
   "execution_count": 9,
   "metadata": {},
   "outputs": [
    {
     "ename": "IndentationError",
     "evalue": "unexpected indent (1997015293.py, line 2)",
     "output_type": "error",
     "traceback": [
      "\u001b[1;36m  Cell \u001b[1;32mIn[9], line 2\u001b[1;36m\u001b[0m\n\u001b[1;33m    df['property_value']=df['property_value'].apply(lambda x: 0 if pd.isna(x) else x)\u001b[0m\n\u001b[1;37m    ^\u001b[0m\n\u001b[1;31mIndentationError\u001b[0m\u001b[1;31m:\u001b[0m unexpected indent\n"
     ]
    }
   ],
   "source": [
    "df['loan_with_property']=df['property_value'].apply(lambda x: 0 if pd.isna(x) else 1)\n",
    "            df['property_value']=df['property_value'].apply(lambda x: 0 if pd.isna(x) else x)\n",
    "            # droping ltv as it is a calculated using loan amount by total property value\n",
    "            df.drop(columns=['LTV'],inplace=True)\n",
    "            split_dir=self.config.split_dir\n",
    "            \n",
    "            X=df.drop(columns=['Status'])\n",
    "            y=df['Status']\n",
    "            X_train,X_temp,y_train,y_temp=train_test_split(X,y,test_size=0.3,random_state=42)      \n",
    "            X_val,X_test,y_val,y_test=train_test_split(X_temp,y_temp,test_size=0.5,random_state=42)\n",
    "            X_train.to_csv(os.path.join(split_dir,'X_train.csv'))\n",
    "            X_val.to_csv(os.path.join(split_dir,'X_val.csv'))\n",
    "            X_test.to_csv(os.path.join(split_dir,'X_test.csv'))\n",
    "            y_train.to_csv(os.path.join(split_dir,'y_train.csv'))\n",
    "            y_val.to_csv(os.path.join(split_dir,'y_val.csv'))\n",
    "            y_test.to_csv(os.path.join(split_dir,'y_test.csv'))\n",
    "            logger.info(f'Data split into train test split and save in {split_dir}')"
   ]
  }
 ],
 "metadata": {
  "kernelspec": {
   "display_name": "venv",
   "language": "python",
   "name": "python3"
  },
  "language_info": {
   "codemirror_mode": {
    "name": "ipython",
    "version": 3
   },
   "file_extension": ".py",
   "mimetype": "text/x-python",
   "name": "python",
   "nbconvert_exporter": "python",
   "pygments_lexer": "ipython3",
   "version": "3.10.11"
  }
 },
 "nbformat": 4,
 "nbformat_minor": 2
}
