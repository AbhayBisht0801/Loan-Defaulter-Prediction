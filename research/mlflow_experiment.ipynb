{
 "cells": [
  {
   "cell_type": "code",
   "execution_count": 1,
   "metadata": {},
   "outputs": [
    {
     "data": {
      "text/html": [
       "<pre style=\"white-space:pre;overflow-x:auto;line-height:normal;font-family:Menlo,'DejaVu Sans Mono',consolas,'Courier New',monospace\">Accessing as AbhayBisht0801\n",
       "</pre>\n"
      ],
      "text/plain": [
       "Accessing as AbhayBisht0801\n"
      ]
     },
     "metadata": {},
     "output_type": "display_data"
    },
    {
     "data": {
      "text/html": [
       "<pre style=\"white-space:pre;overflow-x:auto;line-height:normal;font-family:Menlo,'DejaVu Sans Mono',consolas,'Courier New',monospace\">Initialized MLflow to track repo <span style=\"color: #008000; text-decoration-color: #008000\">\"AbhayBisht0801/Loan-Defaulter-Prediction\"</span>\n",
       "</pre>\n"
      ],
      "text/plain": [
       "Initialized MLflow to track repo \u001b[32m\"AbhayBisht0801/Loan-Defaulter-Prediction\"\u001b[0m\n"
      ]
     },
     "metadata": {},
     "output_type": "display_data"
    },
    {
     "data": {
      "text/html": [
       "<pre style=\"white-space:pre;overflow-x:auto;line-height:normal;font-family:Menlo,'DejaVu Sans Mono',consolas,'Courier New',monospace\">Repository AbhayBisht0801/Loan-Defaulter-Prediction initialized!\n",
       "</pre>\n"
      ],
      "text/plain": [
       "Repository AbhayBisht0801/Loan-Defaulter-Prediction initialized!\n"
      ]
     },
     "metadata": {},
     "output_type": "display_data"
    }
   ],
   "source": [
    "\n"
   ]
  },
  {
   "cell_type": "code",
   "execution_count": 2,
   "metadata": {},
   "outputs": [],
   "source": [
    "import os\n",
    "os.chdir('../')\n"
   ]
  },
  {
   "cell_type": "code",
   "execution_count": 3,
   "metadata": {},
   "outputs": [],
   "source": [
    "from dataclasses import dataclass\n",
    "from pathlib import Path\n",
    "@dataclass\n",
    "class MLFlowTrackingConfig:\n",
    "    root_dir:Path\n",
    "    test_data_path:Path\n",
    "    best_model:Path\n",
    "    metrics_file_name:Path\n",
    "    mlflow_uri:str"
   ]
  },
  {
   "cell_type": "code",
   "execution_count": 4,
   "metadata": {},
   "outputs": [],
   "source": [
    "from src.Loan_defaulter.constants import *\n",
    "from src.Loan_defaulter.utils.common import read_yaml,create_directories"
   ]
  },
  {
   "cell_type": "code",
   "execution_count": 5,
   "metadata": {},
   "outputs": [],
   "source": [
    "class ConfigurationManager:\n",
    "    def __init__(\n",
    "            self,\n",
    "            config_filepath=CONFIG_FILE_PATH,\n",
    "            params_filepath=PARAMS_FILE_PATH\n",
    "\n",
    "    ):\n",
    "        self.config=read_yaml(config_filepath)\n",
    "        self.params=read_yaml(params_filepath)\n",
    "        \n",
    "\n",
    "    def get_model_tracking_config(self)->MLFlowTrackingConfig:\n",
    "        config=self.config\n",
    "       \n",
    "        create_directories([config.mlflow.root_dir])\n",
    "\n",
    "        model_tracking_config=MLFlowTrackingConfig(\n",
    "            root_dir=config.mlflow.root_dir,\n",
    "            test_data_path=config.data_transformation.split_dir,\n",
    "            best_model=config.model_training.best_model,\n",
    "            metrics_file_name=config.mlflow.metrics_file_name,\n",
    "            mlflow_uri=\"https://dagshub.com/AbhayBisht0801/Loan-Defaulter-Prediction.mlflow\"\n",
    "        )\n",
    "        return model_tracking_config"
   ]
  },
  {
   "cell_type": "code",
   "execution_count": 6,
   "metadata": {},
   "outputs": [],
   "source": [
    "import os\n",
    "import pandas as pd\n",
    "from sklearn.metrics import accuracy_score,recall_score,f1_score,precision_score\n",
    "import mlflow\n",
    "import mlflow.sklearn\n",
    "import numpy as np\n",
    "import pickle\n",
    "import joblib \n",
    "from src.Loan_defaulter.utils.common import save_json\n",
    "from urllib.parse import urlparse\n",
    "import dagshub"
   ]
  },
  {
   "cell_type": "code",
   "execution_count": 21,
   "metadata": {},
   "outputs": [],
   "source": [
    "class MLFLOWTracking:\n",
    "    def __init__(self,config=MLFlowTrackingConfig):\n",
    "        self.config = config\n",
    "    def evaL_metrics(self,actual,pred):\n",
    "        model_precision=precision_score(actual,pred)\n",
    "        model_recall=recall_score(actual,pred)\n",
    "        model_accuracy=accuracy_score(actual,pred)\n",
    "        model_f1_score=accuracy_score(actual,pred)\n",
    "        return {'accuracy':model_accuracy,'f1_score':model_f1_score,'precision':model_precision,'recall':model_recall}\n",
    "    def log_into_mlflow(self):\n",
    "        \n",
    "        dagshub.init(repo_owner='AbhayBisht0801', repo_name='Loan-Defaulter-Prediction', mlflow=True)\n",
    "        val_data=pickle.load(open(os.path.join(self.config.test_data_path,'val.pkl'),'rb'))\n",
    "        X_val=val_data[:,:-1]\n",
    "        y_val=val_data[:,-1]\n",
    "        \n",
    "        model=pickle.load(open(self.config.best_model,'rb'))\n",
    "        with mlflow.start_run():\n",
    "            pred=model.predict(X_val)\n",
    "            metrics=self.evaL_metrics(y_val,pred)\n",
    "            print(metrics)\n",
    "            mlflow.log_params(model.get_params())\n",
    "            save_json(path=Path(self.config.metrics_file_name),data=metrics)\n",
    "            mlflow.log_metric('accuracy',metrics['accuracy'])\n",
    "            mlflow.log_metric('f1_score',metrics['f1_score'])\n",
    "            mlflow.log_metric('precision',metrics['precision'])\n",
    "            mlflow.log_metric('recall',metrics['recall'])\n",
    "            \n",
    "            mlflow.sklearn.log_model(model,\"model\",registered_model_name=\"KNN\")\n",
    "\n",
    "\n",
    "        \n",
    "        \n",
    "\n"
   ]
  },
  {
   "cell_type": "code",
   "execution_count": 22,
   "metadata": {},
   "outputs": [
    {
     "name": "stdout",
     "output_type": "stream",
     "text": [
      "[2024-12-29 12:45:09,954:INFO:common:yaml file: config\\config.yaml loaded successfully]\n",
      "[2024-12-29 12:45:09,956:INFO:common:yaml file: params.yaml loaded successfully]\n",
      "[2024-12-29 12:45:09,958:INFO:common:created directory at: artifacts/mlflow]\n",
      "{'accuracy': 0.8970403587443946, 'f1_score': 0.8970403587443946, 'precision': 0.719661205220772, 'recall': 0.9492673992673992}\n",
      "[2024-12-29 12:45:26,834:INFO:common:json file saved at: artifacts\\mlflow\\metrics.json]\n"
     ]
    },
    {
     "name": "stderr",
     "output_type": "stream",
     "text": [
      "c:\\Users\\bisht\\OneDrive\\Desktop\\New folder\\venv\\lib\\site-packages\\_distutils_hack\\__init__.py:33: UserWarning: Setuptools is replacing distutils.\n",
      "  warnings.warn(\"Setuptools is replacing distutils.\")\n",
      "Successfully registered model 'KNN'.\n",
      "2024/12/29 12:49:00 INFO mlflow.tracking._model_registry.client: Waiting up to 300 seconds for model version to finish creation.                     Model name: KNN, version 1\n",
      "Created version '1' of model 'KNN'.\n"
     ]
    }
   ],
   "source": [
    "try:\n",
    "    config=ConfigurationManager()\n",
    "    mlflow_tracking_config=config.get_model_tracking_config()\n",
    "    mlflow_tracking=MLFLOWTracking(config=mlflow_tracking_config)\n",
    "    mlflow_tracking.log_into_mlflow()\n",
    "except Exception as e:\n",
    "    raise e\n",
    "    "
   ]
  },
  {
   "cell_type": "code",
   "execution_count": 15,
   "metadata": {},
   "outputs": [
    {
     "data": {
      "text/plain": [
       "{'bootstrap': True,\n",
       " 'bootstrap_features': False,\n",
       " 'estimator__algorithm': 'auto',\n",
       " 'estimator__leaf_size': 30,\n",
       " 'estimator__metric': 'minkowski',\n",
       " 'estimator__metric_params': None,\n",
       " 'estimator__n_jobs': -1,\n",
       " 'estimator__n_neighbors': 5,\n",
       " 'estimator__p': 2,\n",
       " 'estimator__weights': 'uniform',\n",
       " 'estimator': KNeighborsClassifier(n_jobs=-1),\n",
       " 'max_features': 1.0,\n",
       " 'max_samples': 1.0,\n",
       " 'n_estimators': 10,\n",
       " 'n_jobs': None,\n",
       " 'oob_score': False,\n",
       " 'random_state': 42,\n",
       " 'replacement': False,\n",
       " 'sampler': None,\n",
       " 'sampling_strategy': 'auto',\n",
       " 'verbose': 0,\n",
       " 'warm_start': False}"
      ]
     },
     "execution_count": 15,
     "metadata": {},
     "output_type": "execute_result"
    }
   ],
   "source": []
  },
  {
   "cell_type": "code",
   "execution_count": 14,
   "metadata": {},
   "outputs": [
    {
     "data": {
      "text/plain": [
       "array([1., 0., 0., ..., 0., 0., 1.])"
      ]
     },
     "execution_count": 14,
     "metadata": {},
     "output_type": "execute_result"
    }
   ],
   "source": [
    "X_val=pickle.load(open('artifacts\\data_transformation\\split_data\\\\val.pkl','rb'))\n",
    "X_val[:,-1]"
   ]
  },
  {
   "cell_type": "code",
   "execution_count": null,
   "metadata": {},
   "outputs": [],
   "source": []
  }
 ],
 "metadata": {
  "kernelspec": {
   "display_name": "venv",
   "language": "python",
   "name": "python3"
  },
  "language_info": {
   "codemirror_mode": {
    "name": "ipython",
    "version": 3
   },
   "file_extension": ".py",
   "mimetype": "text/x-python",
   "name": "python",
   "nbconvert_exporter": "python",
   "pygments_lexer": "ipython3",
   "version": "3.10.11"
  }
 },
 "nbformat": 4,
 "nbformat_minor": 2
}
