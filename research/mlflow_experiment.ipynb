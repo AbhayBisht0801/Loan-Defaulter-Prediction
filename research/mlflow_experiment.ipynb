{
 "cells": [
  {
   "cell_type": "code",
   "execution_count": 1,
   "metadata": {},
   "outputs": [
    {
     "data": {
      "text/html": [
       "<pre style=\"white-space:pre;overflow-x:auto;line-height:normal;font-family:Menlo,'DejaVu Sans Mono',consolas,'Courier New',monospace\">Accessing as AbhayBisht0801\n",
       "</pre>\n"
      ],
      "text/plain": [
       "Accessing as AbhayBisht0801\n"
      ]
     },
     "metadata": {},
     "output_type": "display_data"
    },
    {
     "data": {
      "text/html": [
       "<pre style=\"white-space:pre;overflow-x:auto;line-height:normal;font-family:Menlo,'DejaVu Sans Mono',consolas,'Courier New',monospace\">Initialized MLflow to track repo <span style=\"color: #008000; text-decoration-color: #008000\">\"AbhayBisht0801/Loan-Defaulter-Prediction\"</span>\n",
       "</pre>\n"
      ],
      "text/plain": [
       "Initialized MLflow to track repo \u001b[32m\"AbhayBisht0801/Loan-Defaulter-Prediction\"\u001b[0m\n"
      ]
     },
     "metadata": {},
     "output_type": "display_data"
    },
    {
     "data": {
      "text/html": [
       "<pre style=\"white-space:pre;overflow-x:auto;line-height:normal;font-family:Menlo,'DejaVu Sans Mono',consolas,'Courier New',monospace\">Repository AbhayBisht0801/Loan-Defaulter-Prediction initialized!\n",
       "</pre>\n"
      ],
      "text/plain": [
       "Repository AbhayBisht0801/Loan-Defaulter-Prediction initialized!\n"
      ]
     },
     "metadata": {},
     "output_type": "display_data"
    }
   ],
   "source": [
    "\n"
   ]
  },
  {
   "cell_type": "code",
   "execution_count": 1,
   "metadata": {},
   "outputs": [],
   "source": [
    "import os\n",
    "os.chdir('../')\n"
   ]
  },
  {
   "cell_type": "code",
   "execution_count": 2,
   "metadata": {},
   "outputs": [],
   "source": [
    "from dataclasses import dataclass\n",
    "from pathlib import Path\n",
    "@dataclass\n",
    "class MLFlowTrackingConfig:\n",
    "    root_dir:Path\n",
    "    test_data_path:Path\n",
    "    best_model:Path\n",
    "    metrics_file_name:Path\n",
    "    mlflow_uri:str\n",
    "    confusion_matrix:Path"
   ]
  },
  {
   "cell_type": "code",
   "execution_count": 3,
   "metadata": {},
   "outputs": [],
   "source": [
    "from src.Loan_defaulter.constants import *\n",
    "from src.Loan_defaulter.utils.common import read_yaml,create_directories\n",
    "import mlflow.pyfunc\n",
    "from mlflow import MlflowClient"
   ]
  },
  {
   "cell_type": "code",
   "execution_count": 4,
   "metadata": {},
   "outputs": [],
   "source": [
    "class ConfigurationManager:\n",
    "    def __init__(\n",
    "            self,\n",
    "            config_filepath=CONFIG_FILE_PATH,\n",
    "            params_filepath=PARAMS_FILE_PATH\n",
    "\n",
    "    ):\n",
    "        self.config=read_yaml(config_filepath)\n",
    "        self.params=read_yaml(params_filepath)\n",
    "        \n",
    "\n",
    "    def get_model_tracking_config(self)->MLFlowTrackingConfig:\n",
    "        config=self.config\n",
    "       \n",
    "        create_directories([config.mlflow.root_dir])\n",
    "\n",
    "        model_tracking_config=MLFlowTrackingConfig(\n",
    "            root_dir=config.mlflow.root_dir,\n",
    "            test_data_path=config.data_transformation.split_dir,\n",
    "            best_model=config.model_training.best_model,\n",
    "            metrics_file_name=config.mlflow.metrics_file_name,\n",
    "            confusion_matrix=config.mlflow.confusion_matrix,\n",
    "            mlflow_uri=\"https://dagshub.com/AbhayBisht0801/Loan-Defaulter-Prediction.mlflow\"\n",
    "        )\n",
    "        return model_tracking_config"
   ]
  },
  {
   "cell_type": "code",
   "execution_count": 5,
   "metadata": {},
   "outputs": [],
   "source": [
    "import os\n",
    "import pandas as pd\n",
    "from sklearn.metrics import accuracy_score,recall_score,f1_score,precision_score\n",
    "import mlflow\n",
    "import mlflow.sklearn\n",
    "import numpy as np\n",
    "import pickle\n",
    "import joblib \n",
    "from src.Loan_defaulter.utils.common import save_json,create_confusion_matrix_plot\n",
    "from urllib.parse import urlparse\n",
    "import dagshub"
   ]
  },
  {
   "cell_type": "code",
   "execution_count": 6,
   "metadata": {},
   "outputs": [],
   "source": [
    "class MLFLOWTracking:\n",
    "    def __init__(self,config=MLFlowTrackingConfig):\n",
    "        self.config = config\n",
    "    def evaL_metrics(self,actual,pred):\n",
    "        model_precision=precision_score(actual,pred)\n",
    "        model_recall=recall_score(actual,pred)\n",
    "        model_accuracy=accuracy_score(actual,pred)\n",
    "        model_f1_score=accuracy_score(actual,pred)\n",
    "        return {'accuracy':model_accuracy,'f1_score':model_f1_score,'precision':model_precision,'recall':model_recall}\n",
    "    def log_into_mlflow(self):\n",
    "        \n",
    "        dagshub.init(repo_owner='AbhayBisht0801', repo_name='Loan-Defaulter-Prediction', mlflow=True)\n",
    "        val_data=pickle.load(open(os.path.join(self.config.test_data_path,'val.pkl'),'rb'))\n",
    "        X_val=val_data[:,:-1]\n",
    "        y_val=val_data[:,-1]\n",
    "        \n",
    "        model=pickle.load(open(self.config.best_model,'rb'))\n",
    "        with mlflow.start_run():\n",
    "            pred=model.predict(X_val)\n",
    "            metrics=self.evaL_metrics(y_val,pred)\n",
    "            print(metrics)\n",
    "            mlflow.log_params(model.get_params())\n",
    "            save_json(path=Path(self.config.metrics_file_name),data=metrics)\n",
    "            create_confusion_matrix_plot(self.config.confusion_matrix,pred,y_val)\n",
    "            \n",
    "            mlflow.log_metric('accuracy',metrics['accuracy'])\n",
    "            mlflow.log_metric('f1_score',metrics['f1_score'])\n",
    "            mlflow.log_metric('precision',metrics['precision'])\n",
    "            mlflow.log_metric('recall',metrics['recall'])\n",
    "            mlflow.log_artifact(self.config.confusion_matrix,'Confusion_Matrix')\n",
    "            mlflow.sklearn.log_model(model,\"model\",registered_model_name=\"KNN\")\n",
    "\n",
    "\n",
    "        \n",
    "        \n",
    "\n"
   ]
  },
  {
   "cell_type": "code",
   "execution_count": 7,
   "metadata": {},
   "outputs": [
    {
     "name": "stdout",
     "output_type": "stream",
     "text": [
      "[2025-01-02 11:22:21,582:INFO:common:yaml file: config\\config.yaml loaded successfully]\n",
      "[2025-01-02 11:22:21,594:INFO:common:yaml file: params.yaml loaded successfully]\n",
      "[2025-01-02 11:22:21,596:INFO:common:created directory at: artifacts/mlflow]\n",
      "[2025-01-02 11:22:22,621:INFO:_client:HTTP Request: GET https://dagshub.com/api/v1/user \"HTTP/1.1 200 OK\"]\n"
     ]
    },
    {
     "data": {
      "text/html": [
       "<pre style=\"white-space:pre;overflow-x:auto;line-height:normal;font-family:Menlo,'DejaVu Sans Mono',consolas,'Courier New',monospace\">Accessing as AbhayBisht0801\n",
       "</pre>\n"
      ],
      "text/plain": [
       "Accessing as AbhayBisht0801\n"
      ]
     },
     "metadata": {},
     "output_type": "display_data"
    },
    {
     "name": "stdout",
     "output_type": "stream",
     "text": [
      "[2025-01-02 11:22:22,627:INFO:helpers:Accessing as AbhayBisht0801]\n",
      "[2025-01-02 11:22:23,180:INFO:_client:HTTP Request: GET https://dagshub.com/api/v1/repos/AbhayBisht0801/Loan-Defaulter-Prediction \"HTTP/1.1 200 OK\"]\n",
      "[2025-01-02 11:22:23,651:INFO:_client:HTTP Request: GET https://dagshub.com/api/v1/user \"HTTP/1.1 200 OK\"]\n"
     ]
    },
    {
     "data": {
      "text/html": [
       "<pre style=\"white-space:pre;overflow-x:auto;line-height:normal;font-family:Menlo,'DejaVu Sans Mono',consolas,'Courier New',monospace\">Initialized MLflow to track repo <span style=\"color: #008000; text-decoration-color: #008000\">\"AbhayBisht0801/Loan-Defaulter-Prediction\"</span>\n",
       "</pre>\n"
      ],
      "text/plain": [
       "Initialized MLflow to track repo \u001b[32m\"AbhayBisht0801/Loan-Defaulter-Prediction\"\u001b[0m\n"
      ]
     },
     "metadata": {},
     "output_type": "display_data"
    },
    {
     "name": "stdout",
     "output_type": "stream",
     "text": [
      "[2025-01-02 11:22:23,655:INFO:helpers:Initialized MLflow to track repo \"AbhayBisht0801/Loan-Defaulter-Prediction\"]\n"
     ]
    },
    {
     "data": {
      "text/html": [
       "<pre style=\"white-space:pre;overflow-x:auto;line-height:normal;font-family:Menlo,'DejaVu Sans Mono',consolas,'Courier New',monospace\">Repository AbhayBisht0801/Loan-Defaulter-Prediction initialized!\n",
       "</pre>\n"
      ],
      "text/plain": [
       "Repository AbhayBisht0801/Loan-Defaulter-Prediction initialized!\n"
      ]
     },
     "metadata": {},
     "output_type": "display_data"
    },
    {
     "name": "stdout",
     "output_type": "stream",
     "text": [
      "[2025-01-02 11:22:23,656:INFO:helpers:Repository AbhayBisht0801/Loan-Defaulter-Prediction initialized!]\n"
     ]
    },
    {
     "name": "stderr",
     "output_type": "stream",
     "text": [
      "c:\\Users\\bisht\\OneDrive\\Desktop\\New folder\\venv\\lib\\site-packages\\joblib\\externals\\loky\\backend\\context.py:136: UserWarning: Could not find the number of physical cores for the following reason:\n",
      "[WinError 2] The system cannot find the file specified\n",
      "Returning the number of logical cores instead. You can silence this warning by setting LOKY_MAX_CPU_COUNT to the number of cores you want to use.\n",
      "  warnings.warn(\n",
      "  File \"c:\\Users\\bisht\\OneDrive\\Desktop\\New folder\\venv\\lib\\site-packages\\joblib\\externals\\loky\\backend\\context.py\", line 257, in _count_physical_cores\n",
      "    cpu_info = subprocess.run(\n",
      "  File \"C:\\Program Files\\WindowsApps\\PythonSoftwareFoundation.Python.3.10_3.10.3056.0_x64__qbz5n2kfra8p0\\lib\\subprocess.py\", line 503, in run\n",
      "    with Popen(*popenargs, **kwargs) as process:\n",
      "  File \"C:\\Program Files\\WindowsApps\\PythonSoftwareFoundation.Python.3.10_3.10.3056.0_x64__qbz5n2kfra8p0\\lib\\subprocess.py\", line 971, in __init__\n",
      "    self._execute_child(args, executable, preexec_fn, close_fds,\n",
      "  File \"C:\\Program Files\\WindowsApps\\PythonSoftwareFoundation.Python.3.10_3.10.3056.0_x64__qbz5n2kfra8p0\\lib\\subprocess.py\", line 1456, in _execute_child\n",
      "    hp, ht, pid, tid = _winapi.CreateProcess(executable, args,\n"
     ]
    },
    {
     "name": "stdout",
     "output_type": "stream",
     "text": [
      "{'accuracy': 0.8970403587443946, 'f1_score': 0.8970403587443946, 'precision': 0.719661205220772, 'recall': 0.9492673992673992}\n",
      "[2025-01-02 11:22:45,899:INFO:common:json file saved at: artifacts\\mlflow\\metrics.json]\n"
     ]
    },
    {
     "name": "stderr",
     "output_type": "stream",
     "text": [
      "c:\\Users\\bisht\\OneDrive\\Desktop\\New folder\\venv\\lib\\site-packages\\_distutils_hack\\__init__.py:33: UserWarning: Setuptools is replacing distutils.\n",
      "  warnings.warn(\"Setuptools is replacing distutils.\")\n",
      "Registered model 'KNN' already exists. Creating a new version of this model...\n",
      "2025/01/02 11:26:30 INFO mlflow.tracking._model_registry.client: Waiting up to 300 seconds for model version to finish creation.                     Model name: KNN, version 2\n",
      "Created version '2' of model 'KNN'.\n"
     ]
    }
   ],
   "source": [
    "try:\n",
    "    config=ConfigurationManager()\n",
    "    mlflow_tracking_config=config.get_model_tracking_config()\n",
    "    mlflow_tracking=MLFLOWTracking(config=mlflow_tracking_config)\n",
    "    mlflow_tracking.log_into_mlflow()\n",
    "except Exception as e:\n",
    "    raise e\n",
    "    "
   ]
  },
  {
   "cell_type": "code",
   "execution_count": null,
   "metadata": {},
   "outputs": [
    {
     "data": {
      "text/plain": [
       "<ModelVersion: creation_timestamp=1735800282069, current_stage='Archived', description='', last_updated_timestamp=1735801048762, name='KNN', run_id='9c359f7297f54ff1888595e9198db1ba', run_link='', source='models:/KNN/2', status='READY', status_message='', tags={}, user_id='', version='3'>"
      ]
     },
     "execution_count": 12,
     "metadata": {},
     "output_type": "execute_result"
    }
   ],
   "source": [
    "\n",
    "client = MlflowClient()\n",
    "client.transition_model_version_stage(\n",
    "    name=\"KNN\", version=3, stage=\"Archived\"\n",
    ")"
   ]
  },
  {
   "cell_type": "code",
   "execution_count": 14,
   "metadata": {},
   "outputs": [
    {
     "data": {
      "text/plain": [
       "array([1., 0., 0., ..., 0., 0., 1.])"
      ]
     },
     "execution_count": 14,
     "metadata": {},
     "output_type": "execute_result"
    }
   ],
   "source": [
    "X_val=pickle.load(open('artifacts\\data_transformation\\split_data\\\\val.pkl','rb'))\n",
    "X_val[:,-1]"
   ]
  },
  {
   "cell_type": "code",
   "execution_count": null,
   "metadata": {},
   "outputs": [],
   "source": []
  }
 ],
 "metadata": {
  "kernelspec": {
   "display_name": "venv",
   "language": "python",
   "name": "python3"
  },
  "language_info": {
   "codemirror_mode": {
    "name": "ipython",
    "version": 3
   },
   "file_extension": ".py",
   "mimetype": "text/x-python",
   "name": "python",
   "nbconvert_exporter": "python",
   "pygments_lexer": "ipython3",
   "version": "3.10.11"
  }
 },
 "nbformat": 4,
 "nbformat_minor": 2
}
